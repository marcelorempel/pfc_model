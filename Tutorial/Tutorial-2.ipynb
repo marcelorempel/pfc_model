{
 "cells": [
  {
   "cell_type": "markdown",
   "id": "234216b8",
   "metadata": {},
   "source": [
    "# Running and recording a simulation"
   ]
  },
  {
   "cell_type": "code",
   "execution_count": null,
   "id": "2626eca9",
   "metadata": {},
   "outputs": [],
   "source": [
    "from pfc_model import *"
   ]
  },
  {
   "cell_type": "markdown",
   "id": "31e8fbae",
   "metadata": {},
   "source": [
    "### Set new cortex model instance from scratch or from a previously saved setup (e.g. in Tutorial-1)."
   ]
  },
  {
   "cell_type": "markdown",
   "id": "26a3750f",
   "metadata": {},
   "source": [
    "The following variables are necessary regarldess if you set the instance from scrach or if you load previous data."
   ]
  },
  {
   "cell_type": "code",
   "execution_count": null,
   "id": "c941e853",
   "metadata": {},
   "outputs": [],
   "source": [
    "constant_stimuli = [\n",
    "                    (('PC', 0), 250), # Each pyramidal cell receives constant 250 pA input.\n",
    "                    (('IN', 0), 200),# Each interneuron receives constant 200 pA input.\n",
    "                    ]\n",
    "method = 'rk4'\n",
    "dt = 0.05"
   ]
  },
  {
   "cell_type": "markdown",
   "id": "04f7edc6",
   "metadata": {},
   "source": [
    "transient is optional (if not given, it defaults to 0). If not specified otherwise, monitors will begin to record after transient period."
   ]
  },
  {
   "cell_type": "code",
   "execution_count": null,
   "id": "7e2c9463",
   "metadata": {},
   "outputs": [],
   "source": [
    "transient = 1000"
   ]
  },
  {
   "cell_type": "markdown",
   "id": "ec47a4d7",
   "metadata": {},
   "source": [
    "The following variables will be used only if you set a new instance from scratch."
   ]
  },
  {
   "cell_type": "code",
   "execution_count": null,
   "id": "f44b5212",
   "metadata": {},
   "outputs": [],
   "source": [
    "n_cells = 1000\n",
    "n_stripes = 1\n",
    "seed = 0"
   ]
  },
  {
   "cell_type": "code",
   "execution_count": null,
   "id": "25fcdb75",
   "metadata": {},
   "outputs": [],
   "source": [
    "set_cortex = input('If you want to load a previously saved setup, type the directory name. Else, press enter to skip.\\n')\n",
    "if set_cortex == '':\n",
    "    cortex=Cortex.setup(n_cells=n_cells, n_stripes=n_stripes, \n",
    "                    constant_stimuli=constant_stimuli, method=method,\n",
    "                    dt=dt,seed=seed, transient=transient        \n",
    "                    )\n",
    "else:\n",
    "    cortex = Cortex.load(set_cortex, constant_stimuli, method, dt, transient=transient)\n"
   ]
  },
  {
   "cell_type": "markdown",
   "id": "92f67109",
   "metadata": {},
   "source": [
    "### Set monitors for V and a_syn"
   ]
  },
  {
   "cell_type": "code",
   "execution_count": null,
   "id": "00294428",
   "metadata": {},
   "outputs": [],
   "source": [
    "neuron_idc = cortex.neuron_idcs(('ALL', 0))\n",
    "cortex.set_neuron_monitors('V', 'V', neuron_idc)\n",
    "syn_idc = cortex.syn_idcs_from_groups(('PC_L23', 0), ('PC_L23', 0)) \n",
    "cortex.set_synapse_monitors('a_syn', 'a_syn', syn_idc[:100])"
   ]
  },
  {
   "cell_type": "markdown",
   "id": "72cc01e9",
   "metadata": {},
   "source": [
    "### Run a simulation\n",
    "The argument is the duration of simulation in ms."
   ]
  },
  {
   "cell_type": "code",
   "execution_count": null,
   "id": "0a233405",
   "metadata": {},
   "outputs": [],
   "source": [
    "cortex.run(2000)"
   ]
  },
  {
   "cell_type": "markdown",
   "id": "fc20eab8",
   "metadata": {},
   "source": [
    "### Retrieve monitor recordings"
   ]
  },
  {
   "cell_type": "markdown",
   "id": "5c1516a7",
   "metadata": {},
   "source": [
    "Neuron monitors are stored in cortex.recorded and in cortex.neuron_monitors; synapse monitors are stored in cortex.recorded and in cortex.synapse_monitors."
   ]
  },
  {
   "cell_type": "code",
   "execution_count": null,
   "id": "85fd3a4a",
   "metadata": {},
   "outputs": [],
   "source": [
    "print('cortex.recorded.V is cortex.neuron_monitors.V:', cortex.recorded.V is cortex.neuron_monitors.V)\n",
    "print('cortex.recorded.V:', cortex.recorded.V)\n",
    "print()\n",
    "print('cortex.recorded.a_syn is cortex.synapse_monitors.a_syn:', cortex.recorded.a_syn is cortex.synapse_monitors.a_syn)\n",
    "print('cortex.recorded.a_syn:', cortex.recorded.a_syn)"
   ]
  },
  {
   "cell_type": "markdown",
   "id": "7a01085e",
   "metadata": {},
   "source": [
    "You can retrieve the recorded variables in these monitors."
   ]
  },
  {
   "cell_type": "code",
   "execution_count": null,
   "id": "6d2cb07b",
   "metadata": {},
   "outputs": [],
   "source": [
    "neuron_idc = 0\n",
    "tV = cortex.recorded.V.t/br2.ms\n",
    "V = cortex.recorded.V.V[neuron_idc]/br2.mV\n",
    "plt.plot(tV, V)\n",
    "plt.xlabel('t (ms)')\n",
    "plt.ylabel('V (mV)')"
   ]
  },
  {
   "cell_type": "code",
   "execution_count": null,
   "id": "4d11c09c",
   "metadata": {},
   "outputs": [],
   "source": [
    "syn_idc = 54\n",
    "ta_syn = cortex.recorded.a_syn.t/br2.ms\n",
    "a_syn = cortex.recorded.a_syn.a_syn[syn_idc]\n",
    "plt.plot(ta_syn, a_syn)\n",
    "plt.xlabel('t (ms)')\n",
    "plt.ylabel('a_syn')"
   ]
  },
  {
   "cell_type": "markdown",
   "id": "dbe445d7",
   "metadata": {},
   "source": [
    "SpikeMonitor is automatically set."
   ]
  },
  {
   "cell_type": "code",
   "execution_count": null,
   "id": "1c1f5eca",
   "metadata": {},
   "outputs": [],
   "source": [
    "print(cortex.spikemonitor)"
   ]
  },
  {
   "cell_type": "markdown",
   "id": "e79688a8",
   "metadata": {},
   "source": [
    "The function raster_plot from pfc_model.analysis plot a customized raster plot."
   ]
  },
  {
   "cell_type": "code",
   "execution_count": null,
   "id": "5bc7a181",
   "metadata": {},
   "outputs": [],
   "source": [
    "from pfc_model.analysis import *\n",
    "raster_plot(cortex)"
   ]
  },
  {
   "cell_type": "code",
   "execution_count": null,
   "id": "c7d1ee83",
   "metadata": {},
   "outputs": [],
   "source": []
  }
 ],
 "metadata": {
  "kernelspec": {
   "display_name": "Python 3 (ipykernel)",
   "language": "python",
   "name": "python3"
  },
  "language_info": {
   "codemirror_mode": {
    "name": "ipython",
    "version": 3
   },
   "file_extension": ".py",
   "mimetype": "text/x-python",
   "name": "python",
   "nbconvert_exporter": "python",
   "pygments_lexer": "ipython3",
   "version": "3.11.0"
  }
 },
 "nbformat": 4,
 "nbformat_minor": 5
}
