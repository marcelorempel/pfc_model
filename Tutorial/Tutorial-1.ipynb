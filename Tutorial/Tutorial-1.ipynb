{
 "cells": [
  {
   "cell_type": "markdown",
   "id": "f3930dc6",
   "metadata": {},
   "source": [
    "# Generating an instance of PFC model. "
   ]
  },
  {
   "cell_type": "code",
   "execution_count": null,
   "id": "31cd6953",
   "metadata": {},
   "outputs": [],
   "source": [
    "from pfc_model import *\n",
    "import numpy as np"
   ]
  },
  {
   "cell_type": "markdown",
   "id": "052dfcb9",
   "metadata": {},
   "source": [
    " ### Set network specifications. "
   ]
  },
  {
   "cell_type": "markdown",
   "id": "fba340a4",
   "metadata": {},
   "source": [
    "- Number of cells per stripe and number of stripes in the network"
   ]
  },
  {
   "cell_type": "code",
   "execution_count": null,
   "id": "243c82f2",
   "metadata": {},
   "outputs": [],
   "source": [
    "n_cells = 1000\n",
    "n_stripes = 1"
   ]
  },
  {
   "cell_type": "markdown",
   "id": "f31a44e3",
   "metadata": {},
   "source": [
    "- Constant background stimuli\n",
    "\n",
    "Syntax: list of 2-tuples specifing target groups and current value (in pA)\n",
    "    The first item of each tuple is a 2-tuple (group_alias, stripe_index). group_alias is a str representing a group or a set of groups as specified in group_sets. stripe_index is an int defining the stripe.\n",
    "    The second item is an int or float representing the constant current input (in pA)"
   ]
  },
  {
   "cell_type": "code",
   "execution_count": null,
   "id": "28ab0d84",
   "metadata": {},
   "outputs": [],
   "source": [
    "constant_stimuli = [\n",
    "                    (('PC', 0), 250), # Each pyramidal cell receives constant 250 pA input.\n",
    "                    (('IN', 0), 200),# Each interneuron receives constant 200 pA input.\n",
    "                    ]"
   ]
  },
  {
   "cell_type": "markdown",
   "id": "cb23d460",
   "metadata": {},
   "source": [
    "_'PC' represents all pyramidal cell groups (PC_L23 and PC_L5)._\n",
    "\n",
    "_'IN'represents all interneuron groups (IN_L_L23, IN_L_d_L23, IN_CL_L23, IN_CL_AC_L23, IN_CC_L23, IN_F_L23, IN_L_L5, IN_L_d_L5, IN_CL_L5, IN_CL_AC_L5, IN_CC_L5, IN_F_L5)._\n",
    "\n",
    "_Check yourself in the cell below the groups that are represented by 'PC' and 'IN'._"
   ]
  },
  {
   "cell_type": "code",
   "execution_count": null,
   "id": "b9cfdc27",
   "metadata": {
    "scrolled": true
   },
   "outputs": [],
   "source": [
    "print('PC groups:\\n',group_sets['PC'])\n",
    "print('IN groups:\\n', group_sets['IN'])"
   ]
  },
  {
   "cell_type": "markdown",
   "id": "adc41d7d",
   "metadata": {},
   "source": [
    "_Other group aliases can be checked below._"
   ]
  },
  {
   "cell_type": "code",
   "execution_count": null,
   "id": "9804bab3",
   "metadata": {},
   "outputs": [],
   "source": [
    "for alias in group_sets:\n",
    "    print('Alias:', alias, '\\n', group_sets[alias])"
   ]
  },
  {
   "cell_type": "markdown",
   "id": "4f070045",
   "metadata": {},
   "source": [
    "- Numerical integration method (as in Brian 2) and computational step (in ms)"
   ]
  },
  {
   "cell_type": "code",
   "execution_count": null,
   "id": "47c4dd60",
   "metadata": {},
   "outputs": [],
   "source": [
    "method = 'rk4'\n",
    "dt = 0.05"
   ]
  },
  {
   "cell_type": "markdown",
   "id": "1f2c4ef9",
   "metadata": {},
   "source": [
    "- Random seed"
   ]
  },
  {
   "cell_type": "code",
   "execution_count": null,
   "id": "d2d7af0f",
   "metadata": {},
   "outputs": [],
   "source": [
    "seed = 0"
   ]
  },
  {
   "cell_type": "markdown",
   "id": "46bf32b1",
   "metadata": {},
   "source": [
    "### Generate a model instance from scratch."
   ]
  },
  {
   "cell_type": "code",
   "execution_count": null,
   "id": "f8a0f0dd",
   "metadata": {},
   "outputs": [],
   "source": [
    "cortex=Cortex.setup(n_cells=n_cells, n_stripes=n_stripes, \n",
    "                    constant_stimuli=constant_stimuli, method=method,\n",
    "                    dt=dt,seed=seed,            \n",
    "                    )"
   ]
  },
  {
   "cell_type": "markdown",
   "id": "1e77e28c",
   "metadata": {},
   "source": [
    "### Set a new directory and save cortex setup\n",
    "Network setup will be saved inside the new directory, which will be created in the current working directory."
   ]
  },
  {
   "cell_type": "code",
   "execution_count": null,
   "id": "24794126",
   "metadata": {},
   "outputs": [],
   "source": [
    "save_dir = set_simulation_dir('tutorial-1')\n",
    "cortex.save(save_dir)"
   ]
  },
  {
   "cell_type": "markdown",
   "id": "df413363",
   "metadata": {},
   "source": [
    "### Generate model instance from saved setup\n",
    "After saving a cortex setup, one can reload it later for further tests without regenerating it from scratch again."
   ]
  },
  {
   "cell_type": "code",
   "execution_count": null,
   "id": "0edbd05a",
   "metadata": {},
   "outputs": [],
   "source": [
    "cortex1 = Cortex.load(save_dir, constant_stimuli, method, dt)"
   ]
  },
  {
   "cell_type": "markdown",
   "id": "99d9d5dd",
   "metadata": {},
   "source": [
    "You can check that the data are the same in both instances. For instance, we compare below membr_params from both instances."
   ]
  },
  {
   "cell_type": "code",
   "execution_count": null,
   "id": "a132b517",
   "metadata": {},
   "outputs": [],
   "source": [
    "params1 = cortex.network.membr_params.values\n",
    "params2 = cortex1.network.membr_params.values\n",
    "\n",
    "print('Maximum difference:', np.max(np.abs(params1 - params2)))"
   ]
  },
  {
   "cell_type": "markdown",
   "id": "87ea7c3b",
   "metadata": {},
   "source": [
    "You can can explore Cortex data structure using tree method."
   ]
  },
  {
   "cell_type": "code",
   "execution_count": null,
   "id": "b5f3d8f1",
   "metadata": {},
   "outputs": [],
   "source": [
    "cortex.tree()"
   ]
  },
  {
   "cell_type": "markdown",
   "id": "e4fd6676",
   "metadata": {},
   "source": [
    "Each node in the tree structure can be accessed as attributes (e.g. cortex.network.syn_pairs)."
   ]
  },
  {
   "cell_type": "code",
   "execution_count": null,
   "id": "fd22d254",
   "metadata": {},
   "outputs": [],
   "source": [
    "print('syn_pairs:', cortex.network.syn_pairs)"
   ]
  },
  {
   "cell_type": "markdown",
   "id": "7a57f5f2",
   "metadata": {},
   "source": [
    "Network structures can be retrieven in cortex.network."
   ]
  },
  {
   "cell_type": "code",
   "execution_count": null,
   "id": "b612700f",
   "metadata": {},
   "outputs": [],
   "source": [
    "cortex.network.tree()"
   ]
  },
  {
   "cell_type": "markdown",
   "id": "5b628064",
   "metadata": {},
   "source": [
    "Basic setup can be retrieven in cortex.network,basics"
   ]
  },
  {
   "cell_type": "code",
   "execution_count": null,
   "id": "84831380",
   "metadata": {},
   "outputs": [],
   "source": [
    "cortex.network.basics.tree()"
   ]
  }
 ],
 "metadata": {
  "kernelspec": {
   "display_name": "Python 3 (ipykernel)",
   "language": "python",
   "name": "python3"
  },
  "language_info": {
   "codemirror_mode": {
    "name": "ipython",
    "version": 3
   },
   "file_extension": ".py",
   "mimetype": "text/x-python",
   "name": "python",
   "nbconvert_exporter": "python",
   "pygments_lexer": "ipython3",
   "version": "3.11.0"
  }
 },
 "nbformat": 4,
 "nbformat_minor": 5
}
